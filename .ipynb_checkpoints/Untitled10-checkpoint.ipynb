{
 "cells": [
  {
   "cell_type": "code",
   "execution_count": 5,
   "id": "5adfef57",
   "metadata": {},
   "outputs": [],
   "source": [
    "import folium\n",
    "import json\n",
    "import numpy as np\n",
    "import pandas as pd\n",
    "import matplotlib.pyplot as plt\n",
    "import seaborn as sns\n",
    "pd.set_option(\"display.max_rows\", None)\n",
    "pd.set_option('display.max_columns', None)"
   ]
  },
  {
   "cell_type": "markdown",
   "id": "f27bbd85",
   "metadata": {},
   "source": [
    "<h1> 만약 사공이 많다면 사람은 누구를 뽑을 까</h1>"
   ]
  },
  {
   "cell_type": "code",
   "execution_count": 7,
   "id": "f55af85a",
   "metadata": {},
   "outputs": [
    {
     "ename": "FileNotFoundError",
     "evalue": "[Errno 2] No such file or directory: '[제8회_전국동시지방선거]_개표단위별_개표결과.xlsx'",
     "output_type": "error",
     "traceback": [
      "\u001b[0;31m---------------------------------------------------------------------------\u001b[0m",
      "\u001b[0;31mFileNotFoundError\u001b[0m                         Traceback (most recent call last)",
      "Input \u001b[0;32mIn [7]\u001b[0m, in \u001b[0;36m<cell line: 1>\u001b[0;34m()\u001b[0m\n\u001b[0;32m----> 1\u001b[0m raw_data \u001b[38;5;241m=\u001b[39m\u001b[43mpd\u001b[49m\u001b[38;5;241;43m.\u001b[39;49m\u001b[43mread_excel\u001b[49m\u001b[43m(\u001b[49m\u001b[38;5;124;43m'\u001b[39;49m\u001b[38;5;124;43m[제8회_전국동시지방선거]_개표단위별_개표결과.xlsx\u001b[39;49m\u001b[38;5;124;43m'\u001b[39;49m\u001b[43m)\u001b[49m\n\u001b[1;32m      2\u001b[0m raw_data\n",
      "File \u001b[0;32m~/opt/anaconda3/lib/python3.9/site-packages/pandas/util/_decorators.py:211\u001b[0m, in \u001b[0;36mdeprecate_kwarg.<locals>._deprecate_kwarg.<locals>.wrapper\u001b[0;34m(*args, **kwargs)\u001b[0m\n\u001b[1;32m    209\u001b[0m     \u001b[38;5;28;01melse\u001b[39;00m:\n\u001b[1;32m    210\u001b[0m         kwargs[new_arg_name] \u001b[38;5;241m=\u001b[39m new_arg_value\n\u001b[0;32m--> 211\u001b[0m \u001b[38;5;28;01mreturn\u001b[39;00m \u001b[43mfunc\u001b[49m\u001b[43m(\u001b[49m\u001b[38;5;241;43m*\u001b[39;49m\u001b[43margs\u001b[49m\u001b[43m,\u001b[49m\u001b[43m \u001b[49m\u001b[38;5;241;43m*\u001b[39;49m\u001b[38;5;241;43m*\u001b[39;49m\u001b[43mkwargs\u001b[49m\u001b[43m)\u001b[49m\n",
      "File \u001b[0;32m~/opt/anaconda3/lib/python3.9/site-packages/pandas/util/_decorators.py:331\u001b[0m, in \u001b[0;36mdeprecate_nonkeyword_arguments.<locals>.decorate.<locals>.wrapper\u001b[0;34m(*args, **kwargs)\u001b[0m\n\u001b[1;32m    325\u001b[0m \u001b[38;5;28;01mif\u001b[39;00m \u001b[38;5;28mlen\u001b[39m(args) \u001b[38;5;241m>\u001b[39m num_allow_args:\n\u001b[1;32m    326\u001b[0m     warnings\u001b[38;5;241m.\u001b[39mwarn(\n\u001b[1;32m    327\u001b[0m         msg\u001b[38;5;241m.\u001b[39mformat(arguments\u001b[38;5;241m=\u001b[39m_format_argument_list(allow_args)),\n\u001b[1;32m    328\u001b[0m         \u001b[38;5;167;01mFutureWarning\u001b[39;00m,\n\u001b[1;32m    329\u001b[0m         stacklevel\u001b[38;5;241m=\u001b[39mfind_stack_level(),\n\u001b[1;32m    330\u001b[0m     )\n\u001b[0;32m--> 331\u001b[0m \u001b[38;5;28;01mreturn\u001b[39;00m \u001b[43mfunc\u001b[49m\u001b[43m(\u001b[49m\u001b[38;5;241;43m*\u001b[39;49m\u001b[43margs\u001b[49m\u001b[43m,\u001b[49m\u001b[43m \u001b[49m\u001b[38;5;241;43m*\u001b[39;49m\u001b[38;5;241;43m*\u001b[39;49m\u001b[43mkwargs\u001b[49m\u001b[43m)\u001b[49m\n",
      "File \u001b[0;32m~/opt/anaconda3/lib/python3.9/site-packages/pandas/io/excel/_base.py:482\u001b[0m, in \u001b[0;36mread_excel\u001b[0;34m(io, sheet_name, header, names, index_col, usecols, squeeze, dtype, engine, converters, true_values, false_values, skiprows, nrows, na_values, keep_default_na, na_filter, verbose, parse_dates, date_parser, thousands, decimal, comment, skipfooter, convert_float, mangle_dupe_cols, storage_options)\u001b[0m\n\u001b[1;32m    480\u001b[0m \u001b[38;5;28;01mif\u001b[39;00m \u001b[38;5;129;01mnot\u001b[39;00m \u001b[38;5;28misinstance\u001b[39m(io, ExcelFile):\n\u001b[1;32m    481\u001b[0m     should_close \u001b[38;5;241m=\u001b[39m \u001b[38;5;28;01mTrue\u001b[39;00m\n\u001b[0;32m--> 482\u001b[0m     io \u001b[38;5;241m=\u001b[39m \u001b[43mExcelFile\u001b[49m\u001b[43m(\u001b[49m\u001b[43mio\u001b[49m\u001b[43m,\u001b[49m\u001b[43m \u001b[49m\u001b[43mstorage_options\u001b[49m\u001b[38;5;241;43m=\u001b[39;49m\u001b[43mstorage_options\u001b[49m\u001b[43m,\u001b[49m\u001b[43m \u001b[49m\u001b[43mengine\u001b[49m\u001b[38;5;241;43m=\u001b[39;49m\u001b[43mengine\u001b[49m\u001b[43m)\u001b[49m\n\u001b[1;32m    483\u001b[0m \u001b[38;5;28;01melif\u001b[39;00m engine \u001b[38;5;129;01mand\u001b[39;00m engine \u001b[38;5;241m!=\u001b[39m io\u001b[38;5;241m.\u001b[39mengine:\n\u001b[1;32m    484\u001b[0m     \u001b[38;5;28;01mraise\u001b[39;00m \u001b[38;5;167;01mValueError\u001b[39;00m(\n\u001b[1;32m    485\u001b[0m         \u001b[38;5;124m\"\u001b[39m\u001b[38;5;124mEngine should not be specified when passing \u001b[39m\u001b[38;5;124m\"\u001b[39m\n\u001b[1;32m    486\u001b[0m         \u001b[38;5;124m\"\u001b[39m\u001b[38;5;124man ExcelFile - ExcelFile already has the engine set\u001b[39m\u001b[38;5;124m\"\u001b[39m\n\u001b[1;32m    487\u001b[0m     )\n",
      "File \u001b[0;32m~/opt/anaconda3/lib/python3.9/site-packages/pandas/io/excel/_base.py:1652\u001b[0m, in \u001b[0;36mExcelFile.__init__\u001b[0;34m(self, path_or_buffer, engine, storage_options)\u001b[0m\n\u001b[1;32m   1650\u001b[0m     ext \u001b[38;5;241m=\u001b[39m \u001b[38;5;124m\"\u001b[39m\u001b[38;5;124mxls\u001b[39m\u001b[38;5;124m\"\u001b[39m\n\u001b[1;32m   1651\u001b[0m \u001b[38;5;28;01melse\u001b[39;00m:\n\u001b[0;32m-> 1652\u001b[0m     ext \u001b[38;5;241m=\u001b[39m \u001b[43minspect_excel_format\u001b[49m\u001b[43m(\u001b[49m\n\u001b[1;32m   1653\u001b[0m \u001b[43m        \u001b[49m\u001b[43mcontent_or_path\u001b[49m\u001b[38;5;241;43m=\u001b[39;49m\u001b[43mpath_or_buffer\u001b[49m\u001b[43m,\u001b[49m\u001b[43m \u001b[49m\u001b[43mstorage_options\u001b[49m\u001b[38;5;241;43m=\u001b[39;49m\u001b[43mstorage_options\u001b[49m\n\u001b[1;32m   1654\u001b[0m \u001b[43m    \u001b[49m\u001b[43m)\u001b[49m\n\u001b[1;32m   1655\u001b[0m     \u001b[38;5;28;01mif\u001b[39;00m ext \u001b[38;5;129;01mis\u001b[39;00m \u001b[38;5;28;01mNone\u001b[39;00m:\n\u001b[1;32m   1656\u001b[0m         \u001b[38;5;28;01mraise\u001b[39;00m \u001b[38;5;167;01mValueError\u001b[39;00m(\n\u001b[1;32m   1657\u001b[0m             \u001b[38;5;124m\"\u001b[39m\u001b[38;5;124mExcel file format cannot be determined, you must specify \u001b[39m\u001b[38;5;124m\"\u001b[39m\n\u001b[1;32m   1658\u001b[0m             \u001b[38;5;124m\"\u001b[39m\u001b[38;5;124man engine manually.\u001b[39m\u001b[38;5;124m\"\u001b[39m\n\u001b[1;32m   1659\u001b[0m         )\n",
      "File \u001b[0;32m~/opt/anaconda3/lib/python3.9/site-packages/pandas/io/excel/_base.py:1525\u001b[0m, in \u001b[0;36minspect_excel_format\u001b[0;34m(content_or_path, storage_options)\u001b[0m\n\u001b[1;32m   1522\u001b[0m \u001b[38;5;28;01mif\u001b[39;00m \u001b[38;5;28misinstance\u001b[39m(content_or_path, \u001b[38;5;28mbytes\u001b[39m):\n\u001b[1;32m   1523\u001b[0m     content_or_path \u001b[38;5;241m=\u001b[39m BytesIO(content_or_path)\n\u001b[0;32m-> 1525\u001b[0m \u001b[38;5;28;01mwith\u001b[39;00m \u001b[43mget_handle\u001b[49m\u001b[43m(\u001b[49m\n\u001b[1;32m   1526\u001b[0m \u001b[43m    \u001b[49m\u001b[43mcontent_or_path\u001b[49m\u001b[43m,\u001b[49m\u001b[43m \u001b[49m\u001b[38;5;124;43m\"\u001b[39;49m\u001b[38;5;124;43mrb\u001b[39;49m\u001b[38;5;124;43m\"\u001b[39;49m\u001b[43m,\u001b[49m\u001b[43m \u001b[49m\u001b[43mstorage_options\u001b[49m\u001b[38;5;241;43m=\u001b[39;49m\u001b[43mstorage_options\u001b[49m\u001b[43m,\u001b[49m\u001b[43m \u001b[49m\u001b[43mis_text\u001b[49m\u001b[38;5;241;43m=\u001b[39;49m\u001b[38;5;28;43;01mFalse\u001b[39;49;00m\n\u001b[1;32m   1527\u001b[0m \u001b[43m\u001b[49m\u001b[43m)\u001b[49m \u001b[38;5;28;01mas\u001b[39;00m handle:\n\u001b[1;32m   1528\u001b[0m     stream \u001b[38;5;241m=\u001b[39m handle\u001b[38;5;241m.\u001b[39mhandle\n\u001b[1;32m   1529\u001b[0m     stream\u001b[38;5;241m.\u001b[39mseek(\u001b[38;5;241m0\u001b[39m)\n",
      "File \u001b[0;32m~/opt/anaconda3/lib/python3.9/site-packages/pandas/io/common.py:865\u001b[0m, in \u001b[0;36mget_handle\u001b[0;34m(path_or_buf, mode, encoding, compression, memory_map, is_text, errors, storage_options)\u001b[0m\n\u001b[1;32m    856\u001b[0m         handle \u001b[38;5;241m=\u001b[39m \u001b[38;5;28mopen\u001b[39m(\n\u001b[1;32m    857\u001b[0m             handle,\n\u001b[1;32m    858\u001b[0m             ioargs\u001b[38;5;241m.\u001b[39mmode,\n\u001b[0;32m   (...)\u001b[0m\n\u001b[1;32m    861\u001b[0m             newline\u001b[38;5;241m=\u001b[39m\u001b[38;5;124m\"\u001b[39m\u001b[38;5;124m\"\u001b[39m,\n\u001b[1;32m    862\u001b[0m         )\n\u001b[1;32m    863\u001b[0m     \u001b[38;5;28;01melse\u001b[39;00m:\n\u001b[1;32m    864\u001b[0m         \u001b[38;5;66;03m# Binary mode\u001b[39;00m\n\u001b[0;32m--> 865\u001b[0m         handle \u001b[38;5;241m=\u001b[39m \u001b[38;5;28;43mopen\u001b[39;49m\u001b[43m(\u001b[49m\u001b[43mhandle\u001b[49m\u001b[43m,\u001b[49m\u001b[43m \u001b[49m\u001b[43mioargs\u001b[49m\u001b[38;5;241;43m.\u001b[39;49m\u001b[43mmode\u001b[49m\u001b[43m)\u001b[49m\n\u001b[1;32m    866\u001b[0m     handles\u001b[38;5;241m.\u001b[39mappend(handle)\n\u001b[1;32m    868\u001b[0m \u001b[38;5;66;03m# Convert BytesIO or file objects passed with an encoding\u001b[39;00m\n",
      "\u001b[0;31mFileNotFoundError\u001b[0m: [Errno 2] No such file or directory: '[제8회_전국동시지방선거]_개표단위별_개표결과.xlsx'"
     ]
    }
   ],
   "source": [
    "raw_data =pd.read_excel('../Downl')\n",
    "raw_data"
   ]
  },
  {
   "cell_type": "code",
   "execution_count": null,
   "id": "84997587",
   "metadata": {},
   "outputs": [],
   "source": [
    "el_data =pd.read_excel('../Downloads/[제20대_대통령선거]_개표단위별_개표결과.xlsx')\n",
    "el_data"
   ]
  },
  {
   "cell_type": "code",
   "execution_count": null,
   "id": "51400450",
   "metadata": {},
   "outputs": [],
   "source": [
    "ele_data =pd.read_excel('../Downloads/개표현황&_#40;읍면동별&_#41;.xlsx')\n",
    "ele_data"
   ]
  },
  {
   "cell_type": "markdown",
   "id": "7edeb1ed",
   "metadata": {},
   "source": [
    "# 만약 초반을 리드 할 수 있으면 어떻게 할까"
   ]
  },
  {
   "cell_type": "code",
   "execution_count": null,
   "id": "fa9cc982",
   "metadata": {
    "scrolled": true
   },
   "outputs": [],
   "source": [
    "eight_data =pd.read_excel('../Downloads/[제20대_대통령선거]_개표진행상황 (1).xlsx')\n",
    "eight_data.iloc[5]"
   ]
  },
  {
   "cell_type": "code",
   "execution_count": null,
   "id": "af155a82",
   "metadata": {},
   "outputs": [],
   "source": [
    "early_data =pd.read_excel('../Downloads/[제20대_대통령선거]_개표단위별_개표결과.xlsx')\n",
    "early_data"
   ]
  },
  {
   "cell_type": "code",
   "execution_count": null,
   "id": "3d64fe04",
   "metadata": {},
   "outputs": [],
   "source": [
    "number=pd.read_excel('../Downloads/투표현황.xlsx')\n",
    "number_0=number.iloc[112]\n",
    "number_0"
   ]
  },
  {
   "cell_type": "code",
   "execution_count": null,
   "id": "3a40268b",
   "metadata": {},
   "outputs": [],
   "source": [
    "number_1=number_0.drop([\"중앙선거관리위원회 선거통계시스템\"]).drop([\"Unnamed: 1\"]).drop([\"Unnamed: 3\"]).drop([\"Unnamed: 4\"]).drop([\"Unnamed: 5\"]).drop([\"Unnamed: 6\"]).drop([\"Unnamed: 7\"]).drop([\"Unnamed: 8\"]).drop([\"Unnamed: 9\"]).drop([\"Unnamed: 10\"]).drop([\"Unnamed: 11\"]).drop([\"Unnamed: 12\"]).drop([\"Unnamed: 13\"]).drop([\"Unnamed: 14\"]).drop([\"Unnamed: 15\"])"
   ]
  },
  {
   "cell_type": "code",
   "execution_count": null,
   "id": "56fee4d4",
   "metadata": {},
   "outputs": [],
   "source": [
    "number_2=number_1.str.replace(',','').astype(int)"
   ]
  },
  {
   "cell_type": "code",
   "execution_count": null,
   "id": "630209c1",
   "metadata": {},
   "outputs": [],
   "source": [
    "arm_data =pd.read_excel('../Downloads/[제8회_전국동시지방선거]_사전투표진행상황.xlsx')\n",
    "arm_data"
   ]
  },
  {
   "cell_type": "code",
   "execution_count": null,
   "id": "884c9a24",
   "metadata": {},
   "outputs": [],
   "source": [
    "kt=arm_data.iloc[39]\n",
    "kt"
   ]
  },
  {
   "cell_type": "code",
   "execution_count": null,
   "id": "894218f2",
   "metadata": {},
   "outputs": [],
   "source": [
    "kt_0=kt.drop([\"Unnamed: 2\"])\n"
   ]
  },
  {
   "cell_type": "code",
   "execution_count": null,
   "id": "a4400a13",
   "metadata": {},
   "outputs": [],
   "source": [
    "kt_1=kt_0.drop([\"중앙선거관리위원회 선거통계시스템\"])"
   ]
  },
  {
   "cell_type": "code",
   "execution_count": null,
   "id": "3dcae9ab",
   "metadata": {},
   "outputs": [],
   "source": [
    "kt_2=kt_1.str.replace(',','')\n",
    "kt_3=kt_2.str.replace(' ,','')\n",
    "kt_4=kt_3.str.replace('.','')"
   ]
  },
  {
   "cell_type": "code",
   "execution_count": null,
   "id": "aa9d7f4a",
   "metadata": {},
   "outputs": [],
   "source": [
    "kt_5=kt_4.astype(int)\n",
    "kt_5"
   ]
  },
  {
   "cell_type": "code",
   "execution_count": null,
   "id": "5a187112",
   "metadata": {},
   "outputs": [],
   "source": [
    "kt_6=kt_5.drop([\"Unnamed: 4\"])\n",
    "kt_6\n",
    "\n",
    "x=['all','Voting']\n",
    "plt.bar(x,kt_6)\n",
    "plt.xticks(x)\n",
    "plt.show()"
   ]
  },
  {
   "cell_type": "code",
   "execution_count": null,
   "id": "32cb56db",
   "metadata": {
    "scrolled": true
   },
   "outputs": [],
   "source": [
    "kd=raw_data.iloc[4]\n",
    "\n",
    "kd_0=kd.str.replace(',','')\n",
    "kd_0"
   ]
  },
  {
   "cell_type": "code",
   "execution_count": null,
   "id": "9fa63b22",
   "metadata": {},
   "outputs": [],
   "source": [
    "kd_1=kd_0.drop(([\"중앙선거관리위원회 선거통계시스템\"])).drop(([\"Unnamed: 1\"])).drop(([\"Unnamed: 3\"])).drop(([\"Unnamed: 5\"])).drop(([\"Unnamed: 7\"])).drop(([\"Unnamed: 8\"])).drop(([\"Unnamed: 9\"]))"
   ]
  },
  {
   "cell_type": "code",
   "execution_count": null,
   "id": "ac94a13e",
   "metadata": {},
   "outputs": [],
   "source": [
    "kd_2=kd_1.astype(int)\n",
    "kd_2"
   ]
  },
  {
   "cell_type": "code",
   "execution_count": null,
   "id": "9656dd67",
   "metadata": {},
   "outputs": [],
   "source": [
    "x=['all','kim','lee']\n",
    "plt.bar(x,kd_2)\n",
    "plt.xticks(x)\n",
    "plt.show()"
   ]
  },
  {
   "cell_type": "code",
   "execution_count": null,
   "id": "76c00975",
   "metadata": {},
   "outputs": [],
   "source": [
    "x=['all','Voting']\n",
    "plt.bar(x,number_2)\n",
    "plt.xticks(x)\n",
    "plt.show()"
   ]
  },
  {
   "cell_type": "code",
   "execution_count": null,
   "id": "40e6a2ce",
   "metadata": {},
   "outputs": [],
   "source": [
    "ele_data"
   ]
  },
  {
   "cell_type": "code",
   "execution_count": null,
   "id": "64c0d5bc",
   "metadata": {},
   "outputs": [],
   "source": [
    "md=ele_data.iloc[4]\n",
    "md"
   ]
  },
  {
   "cell_type": "code",
   "execution_count": null,
   "id": "dd96ea96",
   "metadata": {},
   "outputs": [],
   "source": [
    "md_0=md.drop([\"중앙선거관리위원회 선거통계시스템\"]).drop([\"Unnamed: 1\"]).drop([\"Unnamed: 2\"]).drop([\"Unnamed: 6\"]).drop([\"Unnamed: 9\"]).drop([\"Unnamed: 10\"]).drop([\"Unnamed: 11\"])\n",
    "md_1=md_0.str.replace(',','').astype(int)\n",
    "md_1"
   ]
  },
  {
   "cell_type": "code",
   "execution_count": null,
   "id": "7552c8d4",
   "metadata": {},
   "outputs": [],
   "source": [
    "rd_0=rd.drop([\"중앙선거관리위원회 선거통계시스템\"]).drop([\"Unnamed: 1\"]).drop([\"Unnamed: 6\"]).drop([\"Unnamed: 9\"]).drop([\"Unnamed: 10\"]).drop([\"Unnamed: 11\"])\n",
    "rd_0"
   ]
  },
  {
   "cell_type": "code",
   "execution_count": null,
   "id": "5865d2ec",
   "metadata": {},
   "outputs": [],
   "source": [
    "rd_1=rd_0.str.replace(',','')\n",
    "rd_2=rd_1.astype(int)"
   ]
  },
  {
   "cell_type": "code",
   "execution_count": null,
   "id": "42eb2738",
   "metadata": {},
   "outputs": [],
   "source": [
    "x=['all','Voting number','kim','lee_yellow','lee','Voting sum']\n",
    "plt.bar(x,rd_2)\n",
    "plt.xticks(x)\n",
    "plt.show()"
   ]
  },
  {
   "cell_type": "code",
   "execution_count": null,
   "id": "1d2380e2",
   "metadata": {},
   "outputs": [],
   "source": [
    "early_data.iloc[6]"
   ]
  },
  {
   "cell_type": "code",
   "execution_count": null,
   "id": "05c8ecad",
   "metadata": {},
   "outputs": [],
   "source": [
    "kr=early_data.iloc[6].drop([\"중앙선거관리위원회 선거통계시스템\"]).drop([\"Unnamed: 1\"]).drop([\"Unnamed: 5\"]).drop([\"Unnamed: 9\"])\n",
    "kr"
   ]
  },
  {
   "cell_type": "code",
   "execution_count": null,
   "id": "6d5ad742",
   "metadata": {},
   "outputs": [],
   "source": [
    "kr_0=kr.str.replace(',','').astype(int)"
   ]
  },
  {
   "cell_type": "code",
   "execution_count": null,
   "id": "6bf864e6",
   "metadata": {},
   "outputs": [],
   "source": [
    "x=['all','Voting number','kim','lee_yellow','lee','Voting sum','give up']\n",
    "plt.bar(x,kr_0)\n",
    "plt.xticks(x)\n",
    "plt.show()"
   ]
  },
  {
   "cell_type": "code",
   "execution_count": null,
   "id": "707447d3",
   "metadata": {},
   "outputs": [],
   "source": [
    "ele_data"
   ]
  },
  {
   "cell_type": "code",
   "execution_count": null,
   "id": "8b2fe06b",
   "metadata": {},
   "outputs": [],
   "source": [
    "el_data"
   ]
  },
  {
   "cell_type": "code",
   "execution_count": null,
   "id": "df8ab34a",
   "metadata": {},
   "outputs": [],
   "source": [
    "x=['all','Voting']\n",
    "plt.bar(x,kt_6)\n",
    "plt.xticks(x)\n",
    "plt.show()"
   ]
  },
  {
   "cell_type": "code",
   "execution_count": null,
   "id": "90e4cddf",
   "metadata": {},
   "outputs": [],
   "source": [
    "x=['all','kim','lee']\n",
    "plt.bar(x,kd_2)\n",
    "plt.xticks(x)\n",
    "plt.show()"
   ]
  },
  {
   "cell_type": "code",
   "execution_count": null,
   "id": "de07038f",
   "metadata": {},
   "outputs": [],
   "source": [
    "x=['all','Voting number','kim','lee_yellow','lee','Voting sum']\n",
    "plt.bar(x,rd_2)\n",
    "plt.xticks(x)\n",
    "plt.show()"
   ]
  },
  {
   "cell_type": "code",
   "execution_count": null,
   "id": "3a174641",
   "metadata": {},
   "outputs": [],
   "source": [
    "x=['all','Voting number','kim','lee_yellow','lee','Voting sum','give up']\n",
    "plt.bar(x,kr_0)\n",
    "plt.xticks(x)\n",
    "plt.show()"
   ]
  },
  {
   "cell_type": "code",
   "execution_count": null,
   "id": "ac4c9244",
   "metadata": {},
   "outputs": [],
   "source": [
    "x=['all','Voting']\n",
    "plt.bar(x,number_2)\n",
    "plt.xticks(x)\n",
    "plt.show()"
   ]
  },
  {
   "cell_type": "code",
   "execution_count": null,
   "id": "b9b10224",
   "metadata": {},
   "outputs": [],
   "source": [
    "x=['all','vovild','lee','kim','song']\n",
    "plt.bar(x,md_1)\n",
    "plt.xticks(x)\n",
    "plt.show()"
   ]
  },
  {
   "cell_type": "code",
   "execution_count": null,
   "id": "1e8d2a5f",
   "metadata": {},
   "outputs": [],
   "source": []
  },
  {
   "cell_type": "code",
   "execution_count": null,
   "id": "d8cf4cc4",
   "metadata": {},
   "outputs": [],
   "source": []
  }
 ],
 "metadata": {
  "kernelspec": {
   "display_name": "Python 3 (ipykernel)",
   "language": "python",
   "name": "python3"
  },
  "language_info": {
   "codemirror_mode": {
    "name": "ipython",
    "version": 3
   },
   "file_extension": ".py",
   "mimetype": "text/x-python",
   "name": "python",
   "nbconvert_exporter": "python",
   "pygments_lexer": "ipython3",
   "version": "3.9.12"
  }
 },
 "nbformat": 4,
 "nbformat_minor": 5
}
